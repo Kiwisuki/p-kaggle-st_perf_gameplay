{
 "cells": [
  {
   "cell_type": "code",
   "execution_count": 1,
   "metadata": {},
   "outputs": [],
   "source": [
    "import pandas as pd\n",
    "import numpy as np\n",
    "import matplotlib.pyplot as plt\n",
    "import seaborn as sns\n",
    "import matplotlib.pyplot as plt\n",
    "import os\n"
   ]
  },
  {
   "cell_type": "code",
   "execution_count": 2,
   "metadata": {},
   "outputs": [],
   "source": [
    "# Read in the data\n",
    "train = pd.read_csv('data/train.csv')\n",
    "train_labels = pd.read_csv('data/train_labels.csv')"
   ]
  },
  {
   "cell_type": "code",
   "execution_count": 3,
   "metadata": {},
   "outputs": [],
   "source": [
    "# setting copy warning to false\n",
    "pd.options.mode.chained_assignment = None"
   ]
  },
  {
   "cell_type": "code",
   "execution_count": 4,
   "metadata": {},
   "outputs": [
    {
     "data": {
      "text/plain": [
       "0.41370801521177464"
      ]
     },
     "execution_count": 4,
     "metadata": {},
     "output_type": "execute_result"
    }
   ],
   "source": [
    "# calculate f1 score of predicting always 1\n",
    "\n",
    "y_true = train_labels['correct']\n",
    "y_pred = np.ones(len(y_true))\n",
    "\n",
    "from sklearn.metrics import f1_score\n",
    "f1_score(y_true, y_pred, average='macro') # very important to turn on average='macro' to get the right score"
   ]
  },
  {
   "cell_type": "code",
   "execution_count": 5,
   "metadata": {},
   "outputs": [],
   "source": [
    "# keep only level_group 0-4\n",
    "train = train[train['level_group'] == '0-4']"
   ]
  },
  {
   "cell_type": "code",
   "execution_count": 6,
   "metadata": {},
   "outputs": [
    {
     "data": {
      "text/html": [
       "<div>\n",
       "<style scoped>\n",
       "    .dataframe tbody tr th:only-of-type {\n",
       "        vertical-align: middle;\n",
       "    }\n",
       "\n",
       "    .dataframe tbody tr th {\n",
       "        vertical-align: top;\n",
       "    }\n",
       "\n",
       "    .dataframe thead th {\n",
       "        text-align: right;\n",
       "    }\n",
       "</style>\n",
       "<table border=\"1\" class=\"dataframe\">\n",
       "  <thead>\n",
       "    <tr style=\"text-align: right;\">\n",
       "      <th></th>\n",
       "      <th>session_id</th>\n",
       "      <th>index</th>\n",
       "      <th>elapsed_time</th>\n",
       "      <th>event_name</th>\n",
       "      <th>name</th>\n",
       "      <th>level</th>\n",
       "      <th>page</th>\n",
       "      <th>room_coor_x</th>\n",
       "      <th>room_coor_y</th>\n",
       "      <th>screen_coor_x</th>\n",
       "      <th>screen_coor_y</th>\n",
       "      <th>hover_duration</th>\n",
       "      <th>text</th>\n",
       "      <th>fqid</th>\n",
       "      <th>room_fqid</th>\n",
       "      <th>text_fqid</th>\n",
       "      <th>fullscreen</th>\n",
       "      <th>hq</th>\n",
       "      <th>music</th>\n",
       "      <th>level_group</th>\n",
       "    </tr>\n",
       "  </thead>\n",
       "  <tbody>\n",
       "    <tr>\n",
       "      <th>13105499</th>\n",
       "      <td>21040212461167524</td>\n",
       "      <td>15</td>\n",
       "      <td>34435</td>\n",
       "      <td>navigate_click</td>\n",
       "      <td>undefined</td>\n",
       "      <td>0</td>\n",
       "      <td>NaN</td>\n",
       "      <td>-323.023056</td>\n",
       "      <td>-181.928160</td>\n",
       "      <td>92.0</td>\n",
       "      <td>480.0</td>\n",
       "      <td>NaN</td>\n",
       "      <td>NaN</td>\n",
       "      <td>NaN</td>\n",
       "      <td>tunic.historicalsociety.closet</td>\n",
       "      <td>NaN</td>\n",
       "      <td>1</td>\n",
       "      <td>1</td>\n",
       "      <td>1</td>\n",
       "      <td>0-4</td>\n",
       "    </tr>\n",
       "    <tr>\n",
       "      <th>17300763</th>\n",
       "      <td>21080310481252784</td>\n",
       "      <td>100</td>\n",
       "      <td>122888</td>\n",
       "      <td>navigate_click</td>\n",
       "      <td>undefined</td>\n",
       "      <td>3</td>\n",
       "      <td>NaN</td>\n",
       "      <td>615.298758</td>\n",
       "      <td>-140.835283</td>\n",
       "      <td>824.0</td>\n",
       "      <td>425.0</td>\n",
       "      <td>NaN</td>\n",
       "      <td>NaN</td>\n",
       "      <td>toentry</td>\n",
       "      <td>tunic.historicalsociety.collection</td>\n",
       "      <td>NaN</td>\n",
       "      <td>0</td>\n",
       "      <td>0</td>\n",
       "      <td>1</td>\n",
       "      <td>0-4</td>\n",
       "    </tr>\n",
       "    <tr>\n",
       "      <th>7378737</th>\n",
       "      <td>21010415225372040</td>\n",
       "      <td>21</td>\n",
       "      <td>34097</td>\n",
       "      <td>object_click</td>\n",
       "      <td>basic</td>\n",
       "      <td>0</td>\n",
       "      <td>NaN</td>\n",
       "      <td>-207.484644</td>\n",
       "      <td>-193.883252</td>\n",
       "      <td>742.0</td>\n",
       "      <td>497.0</td>\n",
       "      <td>NaN</td>\n",
       "      <td>NaN</td>\n",
       "      <td>retirement_letter</td>\n",
       "      <td>tunic.historicalsociety.closet</td>\n",
       "      <td>NaN</td>\n",
       "      <td>0</td>\n",
       "      <td>0</td>\n",
       "      <td>1</td>\n",
       "      <td>0-4</td>\n",
       "    </tr>\n",
       "    <tr>\n",
       "      <th>19689642</th>\n",
       "      <td>21100513124781364</td>\n",
       "      <td>35</td>\n",
       "      <td>100969</td>\n",
       "      <td>navigate_click</td>\n",
       "      <td>undefined</td>\n",
       "      <td>1</td>\n",
       "      <td>NaN</td>\n",
       "      <td>-24.759651</td>\n",
       "      <td>-3.879226</td>\n",
       "      <td>209.0</td>\n",
       "      <td>332.0</td>\n",
       "      <td>NaN</td>\n",
       "      <td>NaN</td>\n",
       "      <td>groupconvo</td>\n",
       "      <td>tunic.historicalsociety.entry</td>\n",
       "      <td>NaN</td>\n",
       "      <td>1</td>\n",
       "      <td>0</td>\n",
       "      <td>1</td>\n",
       "      <td>0-4</td>\n",
       "    </tr>\n",
       "    <tr>\n",
       "      <th>5263673</th>\n",
       "      <td>21000509011083970</td>\n",
       "      <td>103</td>\n",
       "      <td>268452</td>\n",
       "      <td>object_click</td>\n",
       "      <td>basic</td>\n",
       "      <td>3</td>\n",
       "      <td>NaN</td>\n",
       "      <td>184.371898</td>\n",
       "      <td>301.675948</td>\n",
       "      <td>544.0</td>\n",
       "      <td>120.0</td>\n",
       "      <td>NaN</td>\n",
       "      <td>NaN</td>\n",
       "      <td>tunic.hub.slip</td>\n",
       "      <td>tunic.historicalsociety.collection</td>\n",
       "      <td>NaN</td>\n",
       "      <td>0</td>\n",
       "      <td>0</td>\n",
       "      <td>1</td>\n",
       "      <td>0-4</td>\n",
       "    </tr>\n",
       "  </tbody>\n",
       "</table>\n",
       "</div>"
      ],
      "text/plain": [
       "                 session_id  index  elapsed_time      event_name       name  \\\n",
       "13105499  21040212461167524     15         34435  navigate_click  undefined   \n",
       "17300763  21080310481252784    100        122888  navigate_click  undefined   \n",
       "7378737   21010415225372040     21         34097    object_click      basic   \n",
       "19689642  21100513124781364     35        100969  navigate_click  undefined   \n",
       "5263673   21000509011083970    103        268452    object_click      basic   \n",
       "\n",
       "          level  page  room_coor_x  room_coor_y  screen_coor_x  screen_coor_y  \\\n",
       "13105499      0   NaN  -323.023056  -181.928160           92.0          480.0   \n",
       "17300763      3   NaN   615.298758  -140.835283          824.0          425.0   \n",
       "7378737       0   NaN  -207.484644  -193.883252          742.0          497.0   \n",
       "19689642      1   NaN   -24.759651    -3.879226          209.0          332.0   \n",
       "5263673       3   NaN   184.371898   301.675948          544.0          120.0   \n",
       "\n",
       "          hover_duration text               fqid  \\\n",
       "13105499             NaN  NaN                NaN   \n",
       "17300763             NaN  NaN            toentry   \n",
       "7378737              NaN  NaN  retirement_letter   \n",
       "19689642             NaN  NaN         groupconvo   \n",
       "5263673              NaN  NaN     tunic.hub.slip   \n",
       "\n",
       "                                   room_fqid text_fqid  fullscreen  hq  music  \\\n",
       "13105499      tunic.historicalsociety.closet       NaN           1   1      1   \n",
       "17300763  tunic.historicalsociety.collection       NaN           0   0      1   \n",
       "7378737       tunic.historicalsociety.closet       NaN           0   0      1   \n",
       "19689642       tunic.historicalsociety.entry       NaN           1   0      1   \n",
       "5263673   tunic.historicalsociety.collection       NaN           0   0      1   \n",
       "\n",
       "         level_group  \n",
       "13105499         0-4  \n",
       "17300763         0-4  \n",
       "7378737          0-4  \n",
       "19689642         0-4  \n",
       "5263673          0-4  "
      ]
     },
     "execution_count": 6,
     "metadata": {},
     "output_type": "execute_result"
    }
   ],
   "source": [
    "train.sample(5)"
   ]
  },
  {
   "cell_type": "code",
   "execution_count": 7,
   "metadata": {},
   "outputs": [],
   "source": [
    "train.drop(['screen_coor_x', 'screen_coor_y', 'level_group', 'hq', 'music', 'text', 'fqid', ], axis=1, inplace=True)"
   ]
  },
  {
   "cell_type": "code",
   "execution_count": 8,
   "metadata": {},
   "outputs": [
    {
     "data": {
      "text/html": [
       "<div>\n",
       "<style scoped>\n",
       "    .dataframe tbody tr th:only-of-type {\n",
       "        vertical-align: middle;\n",
       "    }\n",
       "\n",
       "    .dataframe tbody tr th {\n",
       "        vertical-align: top;\n",
       "    }\n",
       "\n",
       "    .dataframe thead th {\n",
       "        text-align: right;\n",
       "    }\n",
       "</style>\n",
       "<table border=\"1\" class=\"dataframe\">\n",
       "  <thead>\n",
       "    <tr style=\"text-align: right;\">\n",
       "      <th></th>\n",
       "      <th>room_coor_x_max</th>\n",
       "      <th>room_coor_x_min</th>\n",
       "      <th>room_coor_y_max</th>\n",
       "      <th>room_coor_y_min</th>\n",
       "    </tr>\n",
       "    <tr>\n",
       "      <th>room_fqid</th>\n",
       "      <th></th>\n",
       "      <th></th>\n",
       "      <th></th>\n",
       "      <th></th>\n",
       "    </tr>\n",
       "  </thead>\n",
       "  <tbody>\n",
       "    <tr>\n",
       "      <th>tunic.capitol_0.hall</th>\n",
       "      <td>937.826685</td>\n",
       "      <td>-870.331689</td>\n",
       "      <td>462.335042</td>\n",
       "      <td>-559.484403</td>\n",
       "    </tr>\n",
       "    <tr>\n",
       "      <th>tunic.historicalsociety.basement</th>\n",
       "      <td>764.564032</td>\n",
       "      <td>-747.335082</td>\n",
       "      <td>447.069000</td>\n",
       "      <td>-484.499636</td>\n",
       "    </tr>\n",
       "    <tr>\n",
       "      <th>tunic.historicalsociety.closet</th>\n",
       "      <td>925.801770</td>\n",
       "      <td>-1063.881885</td>\n",
       "      <td>332.872127</td>\n",
       "      <td>-393.703169</td>\n",
       "    </tr>\n",
       "    <tr>\n",
       "      <th>tunic.historicalsociety.collection</th>\n",
       "      <td>799.918926</td>\n",
       "      <td>-775.811279</td>\n",
       "      <td>474.637586</td>\n",
       "      <td>-493.592464</td>\n",
       "    </tr>\n",
       "    <tr>\n",
       "      <th>tunic.historicalsociety.entry</th>\n",
       "      <td>1172.531821</td>\n",
       "      <td>-1218.142341</td>\n",
       "      <td>543.616424</td>\n",
       "      <td>-591.735917</td>\n",
       "    </tr>\n",
       "    <tr>\n",
       "      <th>tunic.historicalsociety.stacks</th>\n",
       "      <td>508.797338</td>\n",
       "      <td>-511.667195</td>\n",
       "      <td>316.595477</td>\n",
       "      <td>-347.434545</td>\n",
       "    </tr>\n",
       "    <tr>\n",
       "      <th>tunic.kohlcenter.halloffame</th>\n",
       "      <td>991.377507</td>\n",
       "      <td>-1001.164257</td>\n",
       "      <td>330.000000</td>\n",
       "      <td>-330.000000</td>\n",
       "    </tr>\n",
       "  </tbody>\n",
       "</table>\n",
       "</div>"
      ],
      "text/plain": [
       "                                    room_coor_x_max  room_coor_x_min  \\\n",
       "room_fqid                                                              \n",
       "tunic.capitol_0.hall                     937.826685      -870.331689   \n",
       "tunic.historicalsociety.basement         764.564032      -747.335082   \n",
       "tunic.historicalsociety.closet           925.801770     -1063.881885   \n",
       "tunic.historicalsociety.collection       799.918926      -775.811279   \n",
       "tunic.historicalsociety.entry           1172.531821     -1218.142341   \n",
       "tunic.historicalsociety.stacks           508.797338      -511.667195   \n",
       "tunic.kohlcenter.halloffame              991.377507     -1001.164257   \n",
       "\n",
       "                                    room_coor_y_max  room_coor_y_min  \n",
       "room_fqid                                                             \n",
       "tunic.capitol_0.hall                     462.335042      -559.484403  \n",
       "tunic.historicalsociety.basement         447.069000      -484.499636  \n",
       "tunic.historicalsociety.closet           332.872127      -393.703169  \n",
       "tunic.historicalsociety.collection       474.637586      -493.592464  \n",
       "tunic.historicalsociety.entry            543.616424      -591.735917  \n",
       "tunic.historicalsociety.stacks           316.595477      -347.434545  \n",
       "tunic.kohlcenter.halloffame              330.000000      -330.000000  "
      ]
     },
     "execution_count": 8,
     "metadata": {},
     "output_type": "execute_result"
    }
   ],
   "source": [
    "# Get max and min of room_coor_x and room_coor_y for each room_fqid\n",
    "room_coor_x_max = train.groupby('room_fqid')['room_coor_x'].max()\n",
    "room_coor_x_min = train.groupby('room_fqid')['room_coor_x'].min()\n",
    "\n",
    "room_coor_y_max = train.groupby('room_fqid')['room_coor_y'].max()\n",
    "room_coor_y_min = train.groupby('room_fqid')['room_coor_y'].min()\n",
    "\n",
    "# join the results into a dataframe\n",
    "room_coor_x = pd.concat([room_coor_x_max, room_coor_x_min], axis=1)\n",
    "room_coor_x.columns = ['room_coor_x_max', 'room_coor_x_min']\n",
    "\n",
    "room_coor_y = pd.concat([room_coor_y_max, room_coor_y_min], axis=1)\n",
    "room_coor_y.columns = ['room_coor_y_max', 'room_coor_y_min']\n",
    "\n",
    "# join the results into a dataframe\n",
    "room_coor = pd.concat([room_coor_x, room_coor_y], axis=1)\n",
    "\n",
    "room_coor # These coordinates will dictate the min max axis values in each plot\n"
   ]
  },
  {
   "cell_type": "code",
   "execution_count": 9,
   "metadata": {},
   "outputs": [
    {
     "data": {
      "text/plain": [
       "undefined    1926175\n",
       "basic        1862968\n",
       "close         157166\n",
       "open           33179\n",
       "prev            1007\n",
       "next             510\n",
       "Name: name, dtype: int64"
      ]
     },
     "execution_count": 9,
     "metadata": {},
     "output_type": "execute_result"
    }
   ],
   "source": [
    "train['name'].value_counts()"
   ]
  },
  {
   "cell_type": "code",
   "execution_count": 10,
   "metadata": {},
   "outputs": [
    {
     "data": {
      "text/plain": [
       "navigate_click        1807806\n",
       "cutscene_click         787584\n",
       "person_click           484889\n",
       "object_click           364862\n",
       "notification_click     183243\n",
       "object_hover           107127\n",
       "notebook_click          81733\n",
       "map_click               54068\n",
       "map_hover               45130\n",
       "observation_click       40850\n",
       "checkpoint              23713\n",
       "Name: event_name, dtype: int64"
      ]
     },
     "execution_count": 10,
     "metadata": {},
     "output_type": "execute_result"
    }
   ],
   "source": [
    "train['event_name'].value_counts() # Seems more informative than name, will use as marker"
   ]
  },
  {
   "cell_type": "code",
   "execution_count": 11,
   "metadata": {},
   "outputs": [
    {
     "data": {
      "text/plain": [
       "level\n",
       "0    1\n",
       "1    3\n",
       "2    5\n",
       "3    6\n",
       "4    2\n",
       "Name: room_fqid, dtype: int64"
      ]
     },
     "execution_count": 11,
     "metadata": {},
     "output_type": "execute_result"
    }
   ],
   "source": [
    "# Check how many rooms each level has\n",
    "train.groupby('level')['room_fqid'].agg('nunique')"
   ]
  },
  {
   "cell_type": "code",
   "execution_count": 12,
   "metadata": {},
   "outputs": [
    {
     "data": {
      "text/plain": [
       "room_fqid\n",
       "tunic.capitol_0.hall                   3.357058\n",
       "tunic.historicalsociety.basement       4.540531\n",
       "tunic.historicalsociety.closet        36.383711\n",
       "tunic.historicalsociety.collection    37.334196\n",
       "tunic.historicalsociety.entry         45.391690\n",
       "tunic.historicalsociety.stacks         5.087227\n",
       "tunic.kohlcenter.halloffame           39.873907\n",
       "Name: event_name, dtype: float64"
      ]
     },
     "execution_count": 12,
     "metadata": {},
     "output_type": "execute_result"
    }
   ],
   "source": [
    "# mean number of events for each room per session'\n",
    "train.groupby(['session_id', 'room_fqid'])['event_name'].count().groupby('room_fqid').mean()\n",
    "# Only create plots for rooms with alot of events"
   ]
  },
  {
   "attachments": {},
   "cell_type": "markdown",
   "metadata": {},
   "source": [
    "# Important:\n",
    "\n",
    "We use data from level_groups 0-4 for questions 1-3 only.\n",
    "\n",
    "More info:\n",
    "https://www.kaggle.com/code/cdeotte/xgboost-baseline-0-680"
   ]
  },
  {
   "cell_type": "code",
   "execution_count": 13,
   "metadata": {},
   "outputs": [],
   "source": [
    "train_labels['question'] = train_labels['session_id'].apply(lambda x: x.split('_')[1])\n",
    "train_labels['session_id'] = train_labels['session_id'].apply(lambda x: x.split('_')[0])\n",
    "train_labels = train_labels[train_labels['question'] == 'q1']"
   ]
  },
  {
   "cell_type": "code",
   "execution_count": 14,
   "metadata": {},
   "outputs": [],
   "source": [
    "# Let's start for question 1\n",
    "train_labels = train_labels[train_labels['question'] == 'q1']"
   ]
  },
  {
   "cell_type": "code",
   "execution_count": 15,
   "metadata": {},
   "outputs": [
    {
     "data": {
      "text/plain": [
       "0.7274849333672863"
      ]
     },
     "execution_count": 15,
     "metadata": {},
     "output_type": "execute_result"
    }
   ],
   "source": [
    "train_labels['correct'].mean() # 73% of the time the user got the question correct"
   ]
  },
  {
   "cell_type": "code",
   "execution_count": 16,
   "metadata": {},
   "outputs": [],
   "source": [
    "from sklearn.preprocessing import LabelEncoder\n",
    "\n",
    "# encode event_name\n",
    "le = LabelEncoder()\n",
    "le.fit(train['event_name'])\n",
    "train['event_name'] = le.transform(train['event_name'])\n",
    "\n",
    "# create array of 40 different quantiles for elapsed_time\n",
    "#quantiles = np.linspace(0, 1, 40)\n",
    "\n",
    "# get quantiles of elapsed_time\n",
    "#quantiles_time = room['elapsed_time'].quantile(quantiles)\n",
    "# this will be used later on. Now let's focus on the room coordinates\n",
    "\n"
   ]
  },
  {
   "attachments": {},
   "cell_type": "markdown",
   "metadata": {},
   "source": [
    "# Feature engineering:"
   ]
  },
  {
   "cell_type": "code",
   "execution_count": 17,
   "metadata": {},
   "outputs": [],
   "source": [
    "rooms = train['room_fqid'].unique()        "
   ]
  },
  {
   "cell_type": "code",
   "execution_count": 18,
   "metadata": {},
   "outputs": [
    {
     "data": {
      "text/plain": [
       "7"
      ]
     },
     "execution_count": 18,
     "metadata": {},
     "output_type": "execute_result"
    }
   ],
   "source": [
    "len(rooms)"
   ]
  },
  {
   "cell_type": "code",
   "execution_count": 19,
   "metadata": {},
   "outputs": [],
   "source": [
    "import matplotlib.pyplot as plt\n",
    "import matplotlib as mpl"
   ]
  },
  {
   "cell_type": "code",
   "execution_count": 20,
   "metadata": {},
   "outputs": [],
   "source": [
    "def plot_room(user_id, room_id, max_x, max_y, min_x, min_y, ax):\n",
    "    user = train[train['session_id'] == user_id]\n",
    "    # drop rows with nan values in room_coor_x and room_coor_y\n",
    "    user = user.dropna(subset=['room_coor_x', 'room_coor_y'])\n",
    "    # fillna of event_name with 'unknown'\n",
    "    user['event_name'] = user['event_name'].fillna('unknown')\n",
    "\n",
    "    # sort user by elapsed_time\n",
    "    user = user.sort_values('elapsed_time')\n",
    "    # set index to follow the order of elapsed_time\n",
    "    user = user.reset_index(drop=True)\n",
    "    user['index'] = user.index\n",
    "\n",
    "    room = user[user['room_fqid'] == room_id]\n",
    "\n",
    "\n",
    "    # if index increases by more than 5, then it's a new index_group\n",
    "    room['index_group'] = room['index'] - room['index'].shift(1)\n",
    "    room['index_group'] = room['index_group'].apply(lambda x: 1 if x > 5 else 0)\n",
    "    room['index_group'] = room['index_group'].cumsum()\n",
    "\n",
    "    room['elapsed_time'] = room['elapsed_time'] - room['elapsed_time'].shift(1)\n",
    "    room['elapsed_time'] = room['elapsed_time'].fillna(0)\n",
    "\n",
    "    \n",
    "\n",
    "\n",
    "    # if index_group > 2 then it is 3\n",
    "    room['index_group'] = room['index_group'].apply(lambda x: 3 if x > 2 else x)\n",
    "\n",
    "    grouped = room.groupby('index_group')\n",
    "\n",
    "    # Define a list of colors for the different index_group values\n",
    "    colors = ['red', 'blue', 'green', 'yellow']\n",
    "\n",
    "    # Iterate over the groups and plot each one with a different color\n",
    "    for i, (name, group) in enumerate(grouped):\n",
    "        color = colors[i]\n",
    "        ax.scatter(group['room_coor_x'], group['room_coor_y'], c=group['event_name'], label=name, cmap='viridis', vmin=0, vmax=10)\n",
    "        ax.plot(group['room_coor_x'], group['room_coor_y'], color=color)\n",
    "\n",
    "    # Add a legend and title\n",
    "    handles, labels = ax.get_legend_handles_labels()\n",
    "\n",
    "    # Remove borders and axis\n",
    "    ax.spines['top'].set_visible(False)\n",
    "    ax.spines['right'].set_visible(False)\n",
    "    ax.spines['bottom'].set_visible(False)\n",
    "    ax.spines['left'].set_visible(False)\n",
    "    ax.set_xticks([])\n",
    "    ax.set_yticks([])\n",
    "\n",
    "    ax.set_xlim(min_x, max_x)\n",
    "    ax.set_ylim(min_y, max_y)\n",
    "\n",
    "    return ax\n"
   ]
  },
  {
   "cell_type": "code",
   "execution_count": 21,
   "metadata": {},
   "outputs": [],
   "source": [
    "def plot_rooms(session_id):\n",
    "    user = train[train['session_id'] == session_id]\n",
    "\n",
    "    fig, ax = plt.subplots(2, 4, figsize=(16, 9))\n",
    "    axes = ax.flatten()\n",
    "\n",
    "    for i, room_id in enumerate(rooms):\n",
    "        max_x, min_x, max_y, min_y = room_coor.loc[room_id].values\n",
    "        plot_room(session_id, room_id, max_x, max_y, min_x, min_y, axes[i])\n",
    "\n",
    "    # Remove borders and axis from all axes\n",
    "    for ax in axes:\n",
    "        ax.spines['top'].set_visible(False)\n",
    "        ax.spines['right'].set_visible(False)\n",
    "        ax.spines['bottom'].set_visible(False)\n",
    "        ax.spines['left'].set_visible(False)\n",
    "        ax.set_xticks([])\n",
    "        ax.set_yticks([])\n",
    "\n",
    "    # Adjust spacing between subplots\n",
    "    plt.subplots_adjust(wspace=0.1, hspace=0.3)\n",
    "\n",
    "    return axes\n",
    "\n"
   ]
  },
  {
   "cell_type": "code",
   "execution_count": 22,
   "metadata": {},
   "outputs": [
    {
     "name": "stdout",
     "output_type": "stream",
     "text": [
      "Processed 6133/6133 sessions, failed 0 sessions, success rate 100.00% \t [####################]\r"
     ]
    }
   ],
   "source": [
    "# convert to dataframe\n",
    "processed_data = os.listdir('user_data')\n",
    "processed_data = pd.DataFrame(processed_data, columns=['session_id'])\n",
    "processed_data['session_id'] = processed_data['session_id'].apply(lambda x: x.split('.')[0])\n",
    "processed_data['session_id'] = processed_data['session_id'].astype('int64')\n",
    "\n",
    "# get unprocessed data\n",
    "unprocessed_data = train[~train['session_id'].isin(processed_data['session_id'])]\n",
    "\n",
    "failed_sessions = []\n",
    "success = 0\n",
    "fails = 0\n",
    "total_sessions = len(unprocessed_data['session_id'].unique())\n",
    "for i, session_id in enumerate(unprocessed_data['session_id'].unique()):\n",
    "    try:\n",
    "        axes = plot_rooms(session_id)\n",
    "        plt.savefig(f'user_data/{session_id}.png', dpi=50)\n",
    "        plt.close()\n",
    "        success += 1\n",
    "    except Exception as e:\n",
    "        try:\n",
    "            print(e)\n",
    "            plt.close()\n",
    "        except:\n",
    "            pass\n",
    "        failed_sessions.append(session_id)\n",
    "        fails += 1\n",
    "    \n",
    "    success_rate = success / (success + fails) * 100 if success + fails > 0 else 0\n",
    "    progress_bar = '[' + '#' * int((i + 1) / total_sessions * 20) + ' ' * (20 - int((i + 1) / total_sessions * 20)) + ']'\n",
    "    print(f'Processed {success}/{total_sessions} sessions, failed {fails} sessions, success rate {success_rate:.2f}% \\t {progress_bar}', end='\\r')"
   ]
  },
  {
   "cell_type": "code",
   "execution_count": null,
   "metadata": {},
   "outputs": [],
   "source": []
  }
 ],
 "metadata": {
  "kernelspec": {
   "display_name": "base",
   "language": "python",
   "name": "python3"
  },
  "language_info": {
   "codemirror_mode": {
    "name": "ipython",
    "version": 3
   },
   "file_extension": ".py",
   "mimetype": "text/x-python",
   "name": "python",
   "nbconvert_exporter": "python",
   "pygments_lexer": "ipython3",
   "version": "3.9.13"
  },
  "orig_nbformat": 4
 },
 "nbformat": 4,
 "nbformat_minor": 2
}
