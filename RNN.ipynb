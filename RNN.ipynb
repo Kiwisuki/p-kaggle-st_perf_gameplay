{
 "cells": [
  {
   "cell_type": "code",
   "execution_count": 1,
   "metadata": {},
   "outputs": [],
   "source": [
    "import pandas as pd\n",
    "import numpy as np\n",
    "import matplotlib.pyplot as plt\n",
    "import seaborn as sns\n",
    "\n",
    "from keras.models import Sequential\n",
    "from keras.layers import LSTM, Dense\n",
    "\n",
    "import tensorflow as tf\n",
    "\n",
    "from tensorflow.keras.models import Sequential\n",
    "from tensorflow.keras.preprocessing.image import ImageDataGenerator\n",
    "from tensorflow.keras.layers import Conv2D, MaxPooling2D, GlobalAveragePooling2D, Dropout, Dense, Flatten\n",
    "\n",
    "from sklearn.preprocessing import StandardScaler\n",
    "from sklearn.model_selection import train_test_split\n",
    "\n",
    "tf.config.set_visible_devices(tf.config.list_physical_devices('GPU')[0], 'GPU')\n"
   ]
  },
  {
   "cell_type": "code",
   "execution_count": 2,
   "metadata": {},
   "outputs": [],
   "source": [
    "df = pd.read_csv('data/train_cleaned.csv')\n",
    "df_labels = pd.read_csv('data/labels_q.csv')"
   ]
  },
  {
   "cell_type": "code",
   "execution_count": 3,
   "metadata": {},
   "outputs": [],
   "source": [
    "df_labels = df_labels[['session_id', 'q3']]\n",
    "\n",
    "df_labels.columns = ['session_id', 'label']"
   ]
  },
  {
   "cell_type": "code",
   "execution_count": 4,
   "metadata": {},
   "outputs": [],
   "source": [
    "df = pd.get_dummies(df, columns=['event_name', 'fqid', 'room_fqid', 'fullscreen', 'text_fqid'])\n",
    "\n",
    "num_cols = ['elapsed_time', 'level', 'room_coor_x', 'room_coor_y', 'event_index', 'elapsed_time_diff']\n",
    "\n",
    "scaler = StandardScaler()\n",
    "df[num_cols] = scaler.fit_transform(df[num_cols]).astype('float32')\n",
    "\n",
    "df = df.merge(df_labels, on='session_id')"
   ]
  },
  {
   "cell_type": "code",
   "execution_count": 5,
   "metadata": {},
   "outputs": [],
   "source": [
    "# sort by session_id and elapsed_time\n",
    "df = df.sort_values(['session_id', 'elapsed_time'])"
   ]
  },
  {
   "cell_type": "code",
   "execution_count": 6,
   "metadata": {},
   "outputs": [],
   "source": [
    "\n",
    "def create_sequence(session_id):\n",
    "    sequence = df[df['session_id'] == session_id]\n",
    "\n",
    "    X = sequence.drop(['session_id','label'], axis=1).values\n",
    "    y = sequence['label'].iloc[-1]\n",
    "\n",
    "    # if sequence is not 220, pad with zeros\n",
    "    if X.shape[0] < 220:\n",
    "        X = np.pad(X, ((0, 220-X.shape[0]), (0,0)), 'constant')\n",
    "\n",
    "    if X.shape[0] > 220:\n",
    "        X = X[:220]\n",
    "    return X, y\n",
    "\n",
    "Xs, ys = [], []\n",
    "\n",
    "for session_id in df['session_id'].unique():\n",
    "    X, y = create_sequence(session_id)\n",
    "    if X.shape[0] > 1: # filter out sessions with only one event\n",
    "        Xs.append(X)\n",
    "        ys.append(y)\n",
    "\n",
    "Xs = np.array(Xs)\n",
    "ys = np.array(ys)\n",
    "\n",
    "X_train, X_test, y_train, y_test = train_test_split(Xs, ys, test_size=0.2, random_state=42)\n",
    "\n",
    "# get validation set which is half of the test set\n",
    "X_test, X_val, y_test, y_val = train_test_split(X_test, y_test, test_size=0.5, random_state=42)\n"
   ]
  },
  {
   "cell_type": "code",
   "execution_count": 7,
   "metadata": {},
   "outputs": [
    {
     "name": "stdout",
     "output_type": "stream",
     "text": [
      "Metal device set to: Apple M1 Pro\n",
      "\n",
      "systemMemory: 16.00 GB\n",
      "maxCacheSize: 5.33 GB\n",
      "\n",
      "Epoch 1/8\n"
     ]
    },
    {
     "name": "stderr",
     "output_type": "stream",
     "text": [
      "2023-04-09 20:29:36.080185: W tensorflow/tsl/platform/profile_utils/cpu_utils.cc:128] Failed to get CPU frequency: 0 Hz\n"
     ]
    },
    {
     "name": "stdout",
     "output_type": "stream",
     "text": [
      "590/590 [==============================] - 29s 46ms/step - loss: 0.2485 - accuracy: 0.9332 - val_loss: 0.2529 - val_accuracy: 0.9308\n",
      "Epoch 2/8\n",
      "590/590 [==============================] - 27s 45ms/step - loss: 0.2384 - accuracy: 0.9342 - val_loss: 0.2541 - val_accuracy: 0.9308\n",
      "Epoch 3/8\n",
      "590/590 [==============================] - 27s 45ms/step - loss: 0.2374 - accuracy: 0.9342 - val_loss: 0.2450 - val_accuracy: 0.9308\n",
      "Epoch 4/8\n",
      "590/590 [==============================] - 26s 45ms/step - loss: 0.2372 - accuracy: 0.9342 - val_loss: 0.2450 - val_accuracy: 0.9308\n",
      "Epoch 5/8\n",
      "590/590 [==============================] - 27s 46ms/step - loss: 0.2353 - accuracy: 0.9342 - val_loss: 0.2449 - val_accuracy: 0.9308\n",
      "Epoch 6/8\n",
      "590/590 [==============================] - 27s 46ms/step - loss: 0.2343 - accuracy: 0.9342 - val_loss: 0.2471 - val_accuracy: 0.9308\n",
      "Epoch 7/8\n",
      "590/590 [==============================] - 26s 45ms/step - loss: 0.2337 - accuracy: 0.9342 - val_loss: 0.2463 - val_accuracy: 0.9308\n",
      "Epoch 8/8\n",
      "590/590 [==============================] - 26s 45ms/step - loss: 0.2333 - accuracy: 0.9342 - val_loss: 0.2442 - val_accuracy: 0.9308\n"
     ]
    },
    {
     "data": {
      "text/plain": [
       "<keras.callbacks.History at 0x2c49a9f70>"
      ]
     },
     "execution_count": 7,
     "metadata": {},
     "output_type": "execute_result"
    }
   ],
   "source": [
    "model = Sequential()\n",
    "model.add(LSTM(128, input_shape=(220, X_train.shape[2]), return_sequences=True))\n",
    "model.add(Dropout(0.2))\n",
    "model.add(LSTM(64))\n",
    "model.add(Dropout(0.2))\n",
    "model.add(Dense(32, activation='relu'))\n",
    "model.add(Dense(1, activation='sigmoid'))\n",
    "\n",
    "model.compile(loss='binary_crossentropy', optimizer='adam', metrics=['accuracy'])\n",
    "model.fit(X_train, y_train, validation_data=(X_test, y_test), epochs=8, batch_size=32)\n"
   ]
  },
  {
   "cell_type": "code",
   "execution_count": 8,
   "metadata": {},
   "outputs": [
    {
     "name": "stdout",
     "output_type": "stream",
     "text": [
      "74/74 [==============================] - 1s 13ms/step\n"
     ]
    }
   ],
   "source": [
    "# predict on validation set\n",
    "y_pred = model.predict(X_val)"
   ]
  },
  {
   "cell_type": "code",
   "execution_count": 9,
   "metadata": {},
   "outputs": [
    {
     "data": {
      "image/png": "[encoded data removed]",
      "text/plain": [
       "<Figure size 640x480 with 1 Axes>"
      ]
     },
     "metadata": {},
     "output_type": "display_data"
    }
   ],
   "source": [
    "# plot best threshold for f1 score\n",
    "from sklearn.metrics import f1_score\n",
    "from sklearn.metrics import precision_recall_curve\n",
    "\n",
    "threholds = np.arange(0.4, 0.81, 0.01)\n",
    "f1_scores = []\n",
    "\n",
    "for threhold in threholds:\n",
    "    f1_scores.append(f1_score(y_val, y_pred > threhold, average='macro'))\n",
    "\n",
    "plt.plot(threholds, f1_scores)\n",
    "plt.show()"
   ]
  },
  {
   "cell_type": "code",
   "execution_count": 10,
   "metadata": {},
   "outputs": [
    {
     "name": "stdout",
     "output_type": "stream",
     "text": [
      "0.8000000000000004\n"
     ]
    }
   ],
   "source": [
    "# get best threshold\n",
    "best_threshold = threholds[np.argmax(f1_scores)]\n",
    "print(best_threshold)"
   ]
  },
  {
   "cell_type": "code",
   "execution_count": 11,
   "metadata": {},
   "outputs": [
    {
     "name": "stdout",
     "output_type": "stream",
     "text": [
      "0.49556434631927043\n"
     ]
    }
   ],
   "source": [
    "# best f1 score\n",
    "print(np.max(f1_scores))"
   ]
  },
  {
   "cell_type": "code",
   "execution_count": 12,
   "metadata": {},
   "outputs": [
    {
     "data": {
      "text/html": [
       "<div>\n",
       "<style scoped>\n",
       "    .dataframe tbody tr th:only-of-type {\n",
       "        vertical-align: middle;\n",
       "    }\n",
       "\n",
       "    .dataframe tbody tr th {\n",
       "        vertical-align: top;\n",
       "    }\n",
       "\n",
       "    .dataframe thead th {\n",
       "        text-align: right;\n",
       "    }\n",
       "</style>\n",
       "<table border=\"1\" class=\"dataframe\">\n",
       "  <thead>\n",
       "    <tr style=\"text-align: right;\">\n",
       "      <th></th>\n",
       "      <th>session_id</th>\n",
       "      <th>correct</th>\n",
       "    </tr>\n",
       "  </thead>\n",
       "  <tbody>\n",
       "    <tr>\n",
       "      <th>0</th>\n",
       "      <td>20090312431273200_q1</td>\n",
       "      <td>1</td>\n",
       "    </tr>\n",
       "    <tr>\n",
       "      <th>1</th>\n",
       "      <td>20090312433251036_q1</td>\n",
       "      <td>0</td>\n",
       "    </tr>\n",
       "    <tr>\n",
       "      <th>2</th>\n",
       "      <td>20090312455206810_q1</td>\n",
       "      <td>1</td>\n",
       "    </tr>\n",
       "    <tr>\n",
       "      <th>3</th>\n",
       "      <td>20090313091715820_q1</td>\n",
       "      <td>0</td>\n",
       "    </tr>\n",
       "    <tr>\n",
       "      <th>4</th>\n",
       "      <td>20090313571836404_q1</td>\n",
       "      <td>1</td>\n",
       "    </tr>\n",
       "    <tr>\n",
       "      <th>...</th>\n",
       "      <td>...</td>\n",
       "      <td>...</td>\n",
       "    </tr>\n",
       "    <tr>\n",
       "      <th>424111</th>\n",
       "      <td>22100215342220508_q18</td>\n",
       "      <td>1</td>\n",
       "    </tr>\n",
       "    <tr>\n",
       "      <th>424112</th>\n",
       "      <td>22100215460321130_q18</td>\n",
       "      <td>1</td>\n",
       "    </tr>\n",
       "    <tr>\n",
       "      <th>424113</th>\n",
       "      <td>22100217104993650_q18</td>\n",
       "      <td>1</td>\n",
       "    </tr>\n",
       "    <tr>\n",
       "      <th>424114</th>\n",
       "      <td>22100219442786200_q18</td>\n",
       "      <td>1</td>\n",
       "    </tr>\n",
       "    <tr>\n",
       "      <th>424115</th>\n",
       "      <td>22100221145014656_q18</td>\n",
       "      <td>1</td>\n",
       "    </tr>\n",
       "  </tbody>\n",
       "</table>\n",
       "<p>424116 rows × 2 columns</p>\n",
       "</div>"
      ],
      "text/plain": [
       "                   session_id  correct\n",
       "0        20090312431273200_q1        1\n",
       "1        20090312433251036_q1        0\n",
       "2        20090312455206810_q1        1\n",
       "3        20090313091715820_q1        0\n",
       "4        20090313571836404_q1        1\n",
       "...                       ...      ...\n",
       "424111  22100215342220508_q18        1\n",
       "424112  22100215460321130_q18        1\n",
       "424113  22100217104993650_q18        1\n",
       "424114  22100219442786200_q18        1\n",
       "424115  22100221145014656_q18        1\n",
       "\n",
       "[424116 rows x 2 columns]"
      ]
     },
     "execution_count": 12,
     "metadata": {},
     "output_type": "execute_result"
    }
   ],
   "source": [
    "labels = pd.read_csv('data/train_labels.csv')\n",
    "\n",
    "labels"
   ]
  },
  {
   "cell_type": "code",
   "execution_count": null,
   "metadata": {},
   "outputs": [],
   "source": []
  }
 ],
 "metadata": {
  "kernelspec": {
   "display_name": "base",
   "language": "python",
   "name": "python3"
  },
  "language_info": {
   "codemirror_mode": {
    "name": "ipython",
    "version": 3
   },
   "file_extension": ".py",
   "mimetype": "text/x-python",
   "name": "python",
   "nbconvert_exporter": "python",
   "pygments_lexer": "ipython3",
   "version": "3.9.13"
  },
  "orig_nbformat": 4
 },
 "nbformat": 4,
 "nbformat_minor": 2
}
