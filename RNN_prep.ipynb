{
 "cells": [
  {
   "cell_type": "code",
   "execution_count": 1,
   "metadata": {},
   "outputs": [],
   "source": [
    "import pandas as pd\n",
    "import numpy as np\n",
    "import matplotlib.pyplot as plt\n",
    "import seaborn as sns"
   ]
  },
  {
   "cell_type": "code",
   "execution_count": 2,
   "metadata": {},
   "outputs": [],
   "source": [
    "train = pd.read_csv('data/train.csv')\n",
    "train_labels = pd.read_csv('labels_q1.csv')"
   ]
  },
  {
   "cell_type": "code",
   "execution_count": 3,
   "metadata": {},
   "outputs": [],
   "source": [
    "train = train[train['level_group'] == '0-4']\n",
    "train = train.drop(['level_group'], axis=1)"
   ]
  },
  {
   "cell_type": "code",
   "execution_count": 4,
   "metadata": {},
   "outputs": [],
   "source": [
    "# drop screen_coor_x and screen_coor_y\n",
    "train = train.drop(['screen_coor_x', 'screen_coor_y'], axis=1)\n",
    "\n",
    "# drop rows that have nan values in room_coor_x and room_coor_y\n",
    "train = train.dropna(subset=['room_coor_x', 'room_coor_y'])"
   ]
  },
  {
   "cell_type": "code",
   "execution_count": 5,
   "metadata": {},
   "outputs": [],
   "source": [
    "#  sort by session_id then elapsed_time, recalculate index column\n",
    "train = train.sort_values(['session_id', 'elapsed_time'])\n",
    "\n",
    "# event index starts from 0 for each session\n",
    "train['event_index'] = train.groupby('session_id').cumcount()"
   ]
  },
  {
   "cell_type": "code",
   "execution_count": 6,
   "metadata": {},
   "outputs": [],
   "source": [
    "# Make each user's elapsed time into difference from previous row\n",
    "train['elapsed_time_diff'] = train.groupby('session_id')['elapsed_time'].diff().fillna(0)"
   ]
  },
  {
   "cell_type": "code",
   "execution_count": 7,
   "metadata": {},
   "outputs": [],
   "source": [
    "# drop index column\n",
    "train = train.drop(['index'], axis=1)"
   ]
  },
  {
   "cell_type": "code",
   "execution_count": 31,
   "metadata": {},
   "outputs": [
    {
     "data": {
      "text/plain": [
       "session_id           0.0\n",
       "elapsed_time         0.0\n",
       "event_name           0.0\n",
       "level                0.0\n",
       "room_coor_x          0.0\n",
       "room_coor_y          0.0\n",
       "fqid                 0.0\n",
       "room_fqid            0.0\n",
       "text_fqid            0.0\n",
       "fullscreen           0.0\n",
       "event_index          0.0\n",
       "elapsed_time_diff    0.0\n",
       "dtype: float64"
      ]
     },
     "execution_count": 31,
     "metadata": {},
     "output_type": "execute_result"
    }
   ],
   "source": [
    "train.isna().sum() / len(train)"
   ]
  },
  {
   "cell_type": "code",
   "execution_count": 25,
   "metadata": {},
   "outputs": [],
   "source": [
    "train.drop('hover_duration', axis=1, inplace=True)\n"
   ]
  },
  {
   "cell_type": "code",
   "execution_count": 28,
   "metadata": {},
   "outputs": [],
   "source": [
    "train.drop(['text', 'hq', 'music', 'name'], inplace=True, axis=1)"
   ]
  },
  {
   "cell_type": "code",
   "execution_count": 30,
   "metadata": {},
   "outputs": [],
   "source": [
    "# fill text column with 'none'\n",
    "train['text_fqid'] = train['text_fqid'].fillna('none')\n",
    "# fill fqid column with 'no_fqid'\n",
    "train['fqid'] = train['fqid'].fillna('no_fqid')\n",
    "\n"
   ]
  },
  {
   "cell_type": "code",
   "execution_count": 22,
   "metadata": {},
   "outputs": [],
   "source": [
    "# get columns that are object type\n",
    "obj_cols = train.select_dtypes(include=['object']).columns\n",
    "\n",
    "# if category in obj_cols has less than 1000 counts, replace category with 'other'\n",
    "for col in obj_cols:\n",
    "    counts = train[col].value_counts()\n",
    "    rare_cats = counts[counts < 1000].index.tolist()\n",
    "    train[col] = train[col].apply(lambda x: 'other' if x in rare_cats else x)\n"
   ]
  },
  {
   "cell_type": "code",
   "execution_count": 33,
   "metadata": {},
   "outputs": [],
   "source": [
    "# save to csv\n",
    "train.to_csv('data/train_cleaned.csv', index=False)"
   ]
  },
  {
   "cell_type": "code",
   "execution_count": null,
   "metadata": {},
   "outputs": [],
   "source": []
  }
 ],
 "metadata": {
  "kernelspec": {
   "display_name": "base",
   "language": "python",
   "name": "python3"
  },
  "language_info": {
   "codemirror_mode": {
    "name": "ipython",
    "version": 3
   },
   "file_extension": ".py",
   "mimetype": "text/x-python",
   "name": "python",
   "nbconvert_exporter": "python",
   "pygments_lexer": "ipython3",
   "version": "3.9.13"
  },
  "orig_nbformat": 4
 },
 "nbformat": 4,
 "nbformat_minor": 2
}
