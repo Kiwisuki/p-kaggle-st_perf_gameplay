{
 "cells": [
  {
   "cell_type": "code",
   "execution_count": 1,
   "metadata": {},
   "outputs": [],
   "source": [
    "import pandas as pd\n",
    "import numpy as np\n",
    "import matplotlib.pyplot as plt\n",
    "import seaborn as sns"
   ]
  },
  {
   "cell_type": "code",
   "execution_count": 2,
   "metadata": {},
   "outputs": [],
   "source": [
    "train = pd.read_pickle('cleaned_train.pkl')\n",
    "labels = pd.read_csv('labels_q.csv')"
   ]
  },
  {
   "cell_type": "code",
   "execution_count": 3,
   "metadata": {},
   "outputs": [],
   "source": [
    "train = train[train['level_group'] == '0-4']\n",
    "train = train.drop(['level_group'], axis=1)"
   ]
  },
  {
   "cell_type": "code",
   "execution_count": 5,
   "metadata": {},
   "outputs": [],
   "source": [
    "#  sort by session_id then elapsed_time, recalculate index column\n",
    "train = train.sort_values(['session_id', 'elapsed_time'])\n",
    "\n",
    "# event index starts from 0 for each session\n",
    "train['event_index'] = train.groupby('session_id').cumcount()\n",
    "# drop index column\n",
    "train = train.drop(['index'], axis=1)"
   ]
  },
  {
   "cell_type": "code",
   "execution_count": 6,
   "metadata": {},
   "outputs": [],
   "source": [
    "# Make each user's elapsed time into difference from previous row\n",
    "train['elapsed_time_diff'] = train.groupby('session_id')['elapsed_time'].diff().fillna(0)"
   ]
  },
  {
   "cell_type": "code",
   "execution_count": 8,
   "metadata": {},
   "outputs": [],
   "source": [
    "# fill nan or inf with 0\n",
    "train = train.replace([np.inf, -np.inf], np.nan)\n",
    "train = train.fillna(0)"
   ]
  },
  {
   "cell_type": "code",
   "execution_count": 11,
   "metadata": {},
   "outputs": [],
   "source": [
    "# get columns that are object type\n",
    "obj_cols = train.select_dtypes(include=['object']).columns\n",
    "\n",
    "# if category in obj_cols has less than 1000 counts, replace category with 'other'\n",
    "for col in obj_cols:\n",
    "    counts = train[col].value_counts()\n",
    "    rare_cats = counts[counts < 1000].index.tolist()\n",
    "    train[col] = train[col].apply(lambda x: 'other' if x in rare_cats else x)\n"
   ]
  },
  {
   "cell_type": "code",
   "execution_count": 13,
   "metadata": {},
   "outputs": [],
   "source": [
    "# explode categories into columns\n",
    "train = pd.get_dummies(train, columns=obj_cols)"
   ]
  },
  {
   "cell_type": "code",
   "execution_count": 15,
   "metadata": {},
   "outputs": [],
   "source": [
    "train.to_pickle('prepped_train.pkl')"
   ]
  },
  {
   "cell_type": "code",
   "execution_count": null,
   "metadata": {},
   "outputs": [],
   "source": []
  }
 ],
 "metadata": {
  "kernelspec": {
   "display_name": "base",
   "language": "python",
   "name": "python3"
  },
  "language_info": {
   "codemirror_mode": {
    "name": "ipython",
    "version": 3
   },
   "file_extension": ".py",
   "mimetype": "text/x-python",
   "name": "python",
   "nbconvert_exporter": "python",
   "pygments_lexer": "ipython3",
   "version": "3.9.13"
  },
  "orig_nbformat": 4
 },
 "nbformat": 4,
 "nbformat_minor": 2
}
