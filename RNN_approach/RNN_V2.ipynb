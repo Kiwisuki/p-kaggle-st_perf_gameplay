{
 "cells": [
  {
   "cell_type": "code",
   "execution_count": 1,
   "metadata": {},
   "outputs": [],
   "source": [
    "import pandas as pd\n",
    "import numpy as np\n",
    "import matplotlib.pyplot as plt\n",
    "import seaborn as sns\n",
    "\n",
    "from keras.models import Sequential\n",
    "from keras.layers import LSTM, Dense\n",
    "\n",
    "import tensorflow as tf\n",
    "from tensorflow.keras.models import Sequential\n",
    "from tensorflow.keras.preprocessing.image import ImageDataGenerator\n",
    "from tensorflow.keras.layers import Conv2D, MaxPooling2D, GlobalAveragePooling2D, Dropout, Dense, Flatten\n",
    "from tensorflow.keras.layers import BatchNormalization\n",
    "\n",
    "\n",
    "from sklearn.preprocessing import StandardScaler\n",
    "from sklearn.model_selection import train_test_split\n",
    "\n",
    "from sklearn.metrics import f1_score\n",
    "from sklearn.metrics import precision_recall_curve\n",
    "\n",
    "tf.config.set_visible_devices(tf.config.list_physical_devices('GPU')[0], 'GPU')\n"
   ]
  },
  {
   "cell_type": "code",
   "execution_count": 2,
   "metadata": {},
   "outputs": [],
   "source": [
    "df = pd.read_pickle('prepped_train.pkl')\n",
    "df_labels = pd.read_csv('labels_q.csv')\n",
    "\n",
    "df_labels = df_labels[['session_id', 'q2']]\n",
    "df_labels.columns = ['session_id', 'label']\n",
    "\n",
    "df = df.merge(df_labels, on='session_id')"
   ]
  },
  {
   "cell_type": "code",
   "execution_count": 3,
   "metadata": {},
   "outputs": [],
   "source": [
    "def create_sequence(session_id):\n",
    "    sequence = df[df['session_id'] == session_id]\n",
    "\n",
    "    X = sequence.drop(['session_id','label'], axis=1).values\n",
    "    y = sequence['label'].iloc[-1]\n",
    "\n",
    "    # if sequence is not 220, pad with zeros\n",
    "    if X.shape[0] < 220:\n",
    "        X = np.pad(X, ((0, 220-X.shape[0]), (0,0)), 'constant')\n",
    "\n",
    "    if X.shape[0] > 220:\n",
    "        X = X[:220]\n",
    "    return X, y\n",
    "\n",
    "Xs, ys = [], []\n",
    "\n",
    "for session_id in df['session_id'].unique():\n",
    "    X, y = create_sequence(session_id)\n",
    "    if X.shape[0] > 1: # filter out sessions with only one event\n",
    "        Xs.append(X)\n",
    "        ys.append(y)\n",
    "\n",
    "Xs = np.array(Xs)\n",
    "ys = np.array(ys)\n",
    "\n",
    "X_train, X_test, y_train, y_test = train_test_split(Xs, ys, test_size=0.2, random_state=42)\n",
    "\n",
    "# get validation set which is half of the test set\n",
    "X_test, X_val, y_test, y_val = train_test_split(X_test, y_test, test_size=0.5, random_state=42)"
   ]
  },
  {
   "cell_type": "code",
   "execution_count": 4,
   "metadata": {},
   "outputs": [
    {
     "name": "stdout",
     "output_type": "stream",
     "text": [
      "Metal device set to: Apple M1 Pro\n",
      "\n",
      "systemMemory: 16.00 GB\n",
      "maxCacheSize: 5.33 GB\n",
      "\n",
      "Epoch 1/8\n"
     ]
    },
    {
     "name": "stderr",
     "output_type": "stream",
     "text": [
      "2023-04-13 22:02:38.151761: W tensorflow/tsl/platform/profile_utils/cpu_utils.cc:128] Failed to get CPU frequency: 0 Hz\n"
     ]
    },
    {
     "name": "stdout",
     "output_type": "stream",
     "text": [
      "590/590 [==============================] - 29s 45ms/step - loss: 0.0172 - accuracy: 0.9751 - val_loss: 0.0163 - val_accuracy: 0.9788\n",
      "Epoch 2/8\n",
      "590/590 [==============================] - 26s 44ms/step - loss: 0.0164 - accuracy: 0.9784 - val_loss: 0.0163 - val_accuracy: 0.9788\n",
      "Epoch 3/8\n",
      "590/590 [==============================] - 26s 43ms/step - loss: 0.0164 - accuracy: 0.9786 - val_loss: 0.0161 - val_accuracy: 0.9788\n",
      "Epoch 4/8\n",
      "590/590 [==============================] - 26s 44ms/step - loss: 0.0164 - accuracy: 0.9786 - val_loss: 0.0164 - val_accuracy: 0.9788\n",
      "Epoch 5/8\n",
      "590/590 [==============================] - 26s 44ms/step - loss: 0.0162 - accuracy: 0.9787 - val_loss: 0.0161 - val_accuracy: 0.9771\n",
      "Epoch 6/8\n",
      "590/590 [==============================] - 26s 43ms/step - loss: 0.0162 - accuracy: 0.9785 - val_loss: 0.0158 - val_accuracy: 0.9784\n",
      "Epoch 7/8\n",
      "590/590 [==============================] - 26s 44ms/step - loss: 0.0159 - accuracy: 0.9786 - val_loss: 0.0166 - val_accuracy: 0.9779\n",
      "Epoch 8/8\n",
      "590/590 [==============================] - 26s 44ms/step - loss: 0.0159 - accuracy: 0.9791 - val_loss: 0.0156 - val_accuracy: 0.9784\n",
      "74/74 [==============================] - 1s 14ms/step\n"
     ]
    }
   ],
   "source": [
    "learning_rate = 0.0005\n",
    "optimizer = tf.keras.optimizers.legacy.Adam(learning_rate=learning_rate)\n",
    "\n",
    "model = Sequential()\n",
    "model.add(BatchNormalization(input_shape=(220, X_train.shape[2])))\n",
    "model.add(LSTM(128, return_sequences=True))\n",
    "model.add(Dropout(0.2))\n",
    "model.add(LSTM(64))\n",
    "model.add(Dropout(0.2))\n",
    "model.add(Dense(32, activation='relu'))\n",
    "model.add(Dense(1, activation='sigmoid'))\n",
    "\n",
    "\n",
    "model.compile(loss=tf.keras.losses.BinaryFocalCrossentropy(apply_class_balancing=True), optimizer=optimizer, metrics=['accuracy'],)\n",
    "\n",
    "#model.compile(loss=tf.keras.losses.BinaryFocalCrossentropy(), optimizer='adam', metrics=['accuracy'],)\n",
    "\n",
    "#model.compile(optimizer=optimizer, loss='binary_crossentropy', metrics=['accuracy'])\n",
    "\n",
    "model.fit(X_train, y_train, validation_data=(X_test, y_test), epochs=8, batch_size=32)\n",
    "\n",
    "y_pred = model.predict(X_test)\n",
    "\n",
    "\n",
    "threholds = np.arange(0.0, 1.00, 0.01)\n",
    "f1_scores = []\n",
    "\n",
    "for threhold in threholds:\n",
    "    f1_scores.append(f1_score(y_test, y_pred > threhold, average='macro'))\n",
    "\n",
    "best_threshold = threholds[np.argmax(f1_scores)]\n"
   ]
  },
  {
   "cell_type": "code",
   "execution_count": 5,
   "metadata": {},
   "outputs": [
    {
     "name": "stdout",
     "output_type": "stream",
     "text": [
      "74/74 [==============================] - 1s 14ms/step\n"
     ]
    },
    {
     "data": {
      "text/plain": [
       "0.5079316137196522"
      ]
     },
     "execution_count": 5,
     "metadata": {},
     "output_type": "execute_result"
    }
   ],
   "source": [
    "y_pred = model.predict(X_val)\n",
    "\n",
    "f1_score(y_val, y_pred > best_threshold, average='macro')"
   ]
  },
  {
   "cell_type": "code",
   "execution_count": null,
   "metadata": {},
   "outputs": [],
   "source": []
  }
 ],
 "metadata": {
  "kernelspec": {
   "display_name": "base",
   "language": "python",
   "name": "python3"
  },
  "language_info": {
   "codemirror_mode": {
    "name": "ipython",
    "version": 3
   },
   "file_extension": ".py",
   "mimetype": "text/x-python",
   "name": "python",
   "nbconvert_exporter": "python",
   "pygments_lexer": "ipython3",
   "version": "3.9.13"
  },
  "orig_nbformat": 4
 },
 "nbformat": 4,
 "nbformat_minor": 2
}
