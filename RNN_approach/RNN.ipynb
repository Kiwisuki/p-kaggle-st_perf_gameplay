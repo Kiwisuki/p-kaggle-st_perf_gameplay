{
 "cells": [
  {
   "cell_type": "code",
   "execution_count": 1,
   "metadata": {},
   "outputs": [],
   "source": [
    "import pandas as pd\n",
    "import numpy as np\n",
    "import matplotlib.pyplot as plt\n",
    "import seaborn as sns\n",
    "\n",
    "from keras.models import Sequential\n",
    "from keras.layers import LSTM, Dense\n",
    "\n",
    "import tensorflow as tf\n",
    "\n",
    "from tensorflow.keras.models import Sequential\n",
    "from tensorflow.keras.preprocessing.image import ImageDataGenerator\n",
    "from tensorflow.keras.layers import Conv2D, MaxPooling2D, GlobalAveragePooling2D, Dropout, Dense, Flatten\n",
    "\n",
    "from sklearn.preprocessing import StandardScaler\n",
    "from sklearn.model_selection import train_test_split\n",
    "\n",
    "# plot best threshold for f1 score\n",
    "from sklearn.metrics import f1_score\n",
    "from sklearn.metrics import precision_recall_curve\n",
    "\n",
    "tf.config.set_visible_devices(tf.config.list_physical_devices('GPU')[0], 'GPU')\n"
   ]
  },
  {
   "cell_type": "code",
   "execution_count": 2,
   "metadata": {},
   "outputs": [],
   "source": [
    "df = pd.read_csv('data/train_cleaned.csv')\n",
    "df_labels = pd.read_csv('data/labels_q.csv')"
   ]
  },
  {
   "cell_type": "code",
   "execution_count": 3,
   "metadata": {},
   "outputs": [],
   "source": [
    "df_labels = df_labels[['session_id', 'q1']]\n",
    "\n",
    "df_labels.columns = ['session_id', 'label']"
   ]
  },
  {
   "cell_type": "code",
   "execution_count": 4,
   "metadata": {},
   "outputs": [],
   "source": [
    "df = pd.get_dummies(df, columns=['event_name', 'fqid', 'room_fqid', 'fullscreen', 'text_fqid'])\n",
    "\n",
    "num_cols = ['elapsed_time', 'level', 'room_coor_x', 'room_coor_y', 'event_index', 'elapsed_time_diff']\n",
    "\n",
    "#scaler = StandardScaler()\n",
    "#df[num_cols] = scaler.fit_transform(df[num_cols]).astype('float32')\n",
    "\n",
    "df = df.merge(df_labels, on='session_id')"
   ]
  },
  {
   "cell_type": "code",
   "execution_count": 5,
   "metadata": {},
   "outputs": [],
   "source": [
    "# sort by session_id and elapsed_time\n",
    "df = df.sort_values(['session_id', 'elapsed_time'])"
   ]
  },
  {
   "cell_type": "code",
   "execution_count": 6,
   "metadata": {},
   "outputs": [],
   "source": [
    "\n",
    "def create_sequence(session_id):\n",
    "    sequence = df[df['session_id'] == session_id]\n",
    "\n",
    "    X = sequence.drop(['session_id','label'], axis=1).values\n",
    "    y = sequence['label'].iloc[-1]\n",
    "\n",
    "    # if sequence is not 220, pad with zeros\n",
    "    if X.shape[0] < 220:\n",
    "        X = np.pad(X, ((0, 220-X.shape[0]), (0,0)), 'constant')\n",
    "\n",
    "    if X.shape[0] > 220:\n",
    "        X = X[:220]\n",
    "    return X, y\n",
    "\n",
    "Xs, ys = [], []\n",
    "\n",
    "for session_id in df['session_id'].unique():\n",
    "    X, y = create_sequence(session_id)\n",
    "    if X.shape[0] > 1: # filter out sessions with only one event\n",
    "        Xs.append(X)\n",
    "        ys.append(y)\n",
    "\n",
    "Xs = np.array(Xs)\n",
    "ys = np.array(ys)\n",
    "\n",
    "X_train, X_test, y_train, y_test = train_test_split(Xs, ys, test_size=0.2, random_state=42)\n",
    "\n",
    "# get validation set which is half of the test set\n",
    "X_test, X_val, y_test, y_val = train_test_split(X_test, y_test, test_size=0.5, random_state=42)\n"
   ]
  },
  {
   "cell_type": "code",
   "execution_count": 7,
   "metadata": {},
   "outputs": [],
   "source": [
    "from sklearn.metrics import f1_score\n",
    "import tensorflow as tf\n",
    "from keras import backend as K\n",
    "\n",
    "\n",
    "\n",
    "def f1_loss(y_true, y_pred):\n",
    "    y_true = K.cast(y_true, 'float32')\n",
    "    y_pred = K.cast(K.round(y_pred), 'float32')\n",
    "    y_true_np = K.eval(y_true)\n",
    "    y_pred_np = K.eval(y_pred)\n",
    "    return 1 - f1_score(y_true_np, y_pred_np, average='macro')"
   ]
  },
  {
   "cell_type": "code",
   "execution_count": 9,
   "metadata": {},
   "outputs": [
    {
     "name": "stdout",
     "output_type": "stream",
     "text": [
      "Metal device set to: Apple M1 Pro\n",
      "\n",
      "systemMemory: 16.00 GB\n",
      "maxCacheSize: 5.33 GB\n",
      "\n",
      "Epoch 1/8\n"
     ]
    },
    {
     "name": "stderr",
     "output_type": "stream",
     "text": [
      "2023-04-13 10:48:36.718980: W tensorflow/tsl/platform/profile_utils/cpu_utils.cc:128] Failed to get CPU frequency: 0 Hz\n"
     ]
    },
    {
     "name": "stdout",
     "output_type": "stream",
     "text": [
      "590/590 [==============================] - 28s 44ms/step - loss: 0.5839 - accuracy: 0.7252 - val_loss: 0.5694 - val_accuracy: 0.7322\n",
      "Epoch 2/8\n",
      "590/590 [==============================] - 25s 43ms/step - loss: 0.5787 - accuracy: 0.7278 - val_loss: 0.5626 - val_accuracy: 0.7373\n",
      "Epoch 3/8\n",
      "590/590 [==============================] - 25s 43ms/step - loss: 0.5665 - accuracy: 0.7299 - val_loss: 0.5508 - val_accuracy: 0.7334\n",
      "Epoch 4/8\n",
      "590/590 [==============================] - 25s 43ms/step - loss: 0.5591 - accuracy: 0.7299 - val_loss: 0.5495 - val_accuracy: 0.7364\n",
      "Epoch 5/8\n",
      "590/590 [==============================] - 25s 43ms/step - loss: 0.5577 - accuracy: 0.7286 - val_loss: 0.5511 - val_accuracy: 0.7334\n",
      "Epoch 6/8\n",
      "590/590 [==============================] - 25s 43ms/step - loss: 0.5544 - accuracy: 0.7307 - val_loss: 0.5437 - val_accuracy: 0.7351\n",
      "Epoch 7/8\n",
      "590/590 [==============================] - 25s 43ms/step - loss: 0.5500 - accuracy: 0.7313 - val_loss: 0.5456 - val_accuracy: 0.7364\n",
      "Epoch 8/8\n",
      "590/590 [==============================] - 25s 43ms/step - loss: 0.5466 - accuracy: 0.7319 - val_loss: 0.5546 - val_accuracy: 0.7381\n"
     ]
    },
    {
     "data": {
      "text/plain": [
       "<keras.callbacks.History at 0x28b9e5fd0>"
      ]
     },
     "execution_count": 9,
     "metadata": {},
     "output_type": "execute_result"
    }
   ],
   "source": [
    "from tensorflow.keras.layers import BatchNormalization\n",
    "\n",
    "learning_rate = 0.0005\n",
    "optimizer = tf.keras.optimizers.legacy.Adam(learning_rate=learning_rate)\n",
    "\n",
    "model = Sequential()\n",
    "model.add(BatchNormalization(input_shape=(220, X_train.shape[2])))\n",
    "model.add(LSTM(128, return_sequences=True))\n",
    "model.add(Dropout(0.2))\n",
    "model.add(LSTM(64))\n",
    "model.add(Dropout(0.2))\n",
    "model.add(Dense(32, activation='relu'))\n",
    "model.add(Dense(1, activation='sigmoid'))\n",
    "\n",
    "\n",
    "#model.compile(loss=tf.keras.losses.BinaryFocalCrossentropy(apply_class_balancing=True), optimizer=optimizer, metrics=['accuracy'],)\n",
    "\n",
    "#model.compile(loss=tf.keras.losses.BinaryFocalCrossentropy(), optimizer='adam', metrics=['accuracy'],)\n",
    "\n",
    "model.compile(optimizer=optimizer,\n",
    "              loss='binary_crossentropy',\n",
    "              metrics=['accuracy'])\n",
    "model.fit(X_train, y_train, validation_data=(X_test, y_test), epochs=8, batch_size=32)\n"
   ]
  },
  {
   "cell_type": "code",
   "execution_count": 10,
   "metadata": {},
   "outputs": [
    {
     "name": "stdout",
     "output_type": "stream",
     "text": [
      "74/74 [==============================] - 1s 13ms/step\n",
      "0.6600000000000001\n",
      "0.6053966595829956\n"
     ]
    },
    {
     "data": {
      "image/png": "[encoded data removed]",
      "text/plain": [
       "<Figure size 640x480 with 1 Axes>"
      ]
     },
     "metadata": {},
     "output_type": "display_data"
    }
   ],
   "source": [
    "y_pred = model.predict(X_test)\n",
    "\n",
    "\n",
    "threholds = np.arange(0.5, 0.82, 0.01)\n",
    "f1_scores = []\n",
    "\n",
    "for threhold in threholds:\n",
    "    f1_scores.append(f1_score(y_test, y_pred > threhold, average='macro'))\n",
    "\n",
    "# get best threshold\n",
    "best_threshold = threholds[np.argmax(f1_scores)]\n",
    "print(best_threshold)\n",
    "print(np.max(f1_scores))\n",
    "\n",
    "plt.plot(threholds, f1_scores)\n",
    "plt.show()"
   ]
  },
  {
   "cell_type": "code",
   "execution_count": 11,
   "metadata": {},
   "outputs": [
    {
     "name": "stdout",
     "output_type": "stream",
     "text": [
      "74/74 [==============================] - 1s 13ms/step\n",
      "0.6200000000000001\n",
      "0.5983486405104799\n"
     ]
    },
    {
     "data": {
      "image/png": "[encoded data removed]",
      "text/plain": [
       "<Figure size 640x480 with 1 Axes>"
      ]
     },
     "metadata": {},
     "output_type": "display_data"
    }
   ],
   "source": [
    "# predict on validation set\n",
    "y_pred = model.predict(X_val)\n",
    "\n",
    "threholds = np.arange(0.5, 0.82, 0.01)\n",
    "f1_scores = []\n",
    "\n",
    "\n",
    "\n",
    "for threhold in threholds:\n",
    "    f1_scores.append(f1_score(y_val, y_pred > threhold, average='macro'))\n",
    "\n",
    "\n",
    "best_threshold = threholds[np.argmax(f1_scores)]\n",
    "print(best_threshold)\n",
    "print(np.max(f1_scores))\n",
    "\n",
    "plt.plot(threholds, f1_scores)\n",
    "plt.show()"
   ]
  },
  {
   "cell_type": "code",
   "execution_count": 12,
   "metadata": {},
   "outputs": [
    {
     "data": {
      "text/plain": [
       "0.7274849333672863"
      ]
     },
     "execution_count": 12,
     "metadata": {},
     "output_type": "execute_result"
    }
   ],
   "source": [
    "ys.mean()"
   ]
  },
  {
   "cell_type": "code",
   "execution_count": null,
   "metadata": {},
   "outputs": [],
   "source": []
  }
 ],
 "metadata": {
  "kernelspec": {
   "display_name": "base",
   "language": "python",
   "name": "python3"
  },
  "language_info": {
   "codemirror_mode": {
    "name": "ipython",
    "version": 3
   },
   "file_extension": ".py",
   "mimetype": "text/x-python",
   "name": "python",
   "nbconvert_exporter": "python",
   "pygments_lexer": "ipython3",
   "version": "3.9.13"
  },
  "orig_nbformat": 4
 },
 "nbformat": 4,
 "nbformat_minor": 2
}
